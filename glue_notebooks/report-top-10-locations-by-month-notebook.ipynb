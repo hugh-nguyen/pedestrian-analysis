{
	"metadata": {
		"kernelspec": {
			"name": "glue_pyspark",
			"display_name": "Glue PySpark",
			"language": "python"
		},
		"language_info": {
			"name": "Python_Glue_Session",
			"mimetype": "text/x-python",
			"codemirror_mode": {
				"name": "python",
				"version": 3
			},
			"pygments_lexer": "python3",
			"file_extension": ".py"
		}
	},
	"nbformat_minor": 4,
	"nbformat": 4,
	"cells": [
		{
			"cell_type": "markdown",
			"source": "# Top 10 locations by month\n",
			"metadata": {
				"editable": true,
				"trusted": true
			}
		},
		{
			"cell_type": "markdown",
			"source": "####  Import packages and start the session",
			"metadata": {
				"editable": true,
				"trusted": true
			}
		},
		{
			"cell_type": "code",
			"source": "%idle_timeout 2880\n%glue_version 3.0\n%worker_type G.1X\n%number_of_workers 2\n%extra_py_files s3://pedestrian-analysis-working-bucket/glue-job-scripts/util.py\n\nimport sys, io, zipfile, pandas as pd, util\nfrom datetime import datetime\n\nfrom pyspark.sql.functions import sum, col, rank, desc, lit, month\nfrom pyspark.sql.window import Window\nfrom pyspark.sql.functions import row_number\n\nfrom pyspark.context import SparkContext\nfrom pyspark.sql.types import (\n    StructType, StructField, StringType, IntegerType, DoubleType, TimestampType\n)\n\nfrom awsglue.utils import getResolvedOptions\nfrom awsglue.context import GlueContext\nfrom awsglue.job import Job\n\nsc = SparkContext.getOrCreate()\nglueContext = GlueContext(sc)\nspark = glueContext.spark_session\njob = Job(glueContext)",
			"metadata": {
				"editable": true,
				"trusted": true
			},
			"execution_count": 1,
			"outputs": [
				{
					"name": "stdout",
					"text": "Welcome to the Glue Interactive Sessions Kernel\nFor more information on available magic commands, please type %help in any new cell.\n\nPlease view our Getting Started page to access the most up-to-date information on the Interactive Sessions kernel: https://docs.aws.amazon.com/glue/latest/dg/interactive-sessions.html\nInstalled kernel version: 0.37.0 \nCurrent idle_timeout is 2800 minutes.\nidle_timeout has been set to 2880 minutes.\nSetting Glue version to: 3.0\nPrevious worker type: G.1X\nSetting new worker type to: G.1X\nPrevious number of workers: 5\nSetting new number of workers to: 2\nExtra py files to be included:\ns3://pedestrian-analysis-working-bucket/glue-job-scripts/util.py\nAuthenticating with environment variables and user-defined glue_role_arn: arn:aws:iam::632753217422:role/pedestrians-analysis-notebook-role\nTrying to create a Glue session for the kernel.\nWorker Type: G.1X\nNumber of Workers: 2\nSession ID: f9bb013e-c03d-4a89-b755-99aca0dfc9a1\nJob Type: glueetl\nApplying the following default arguments:\n--glue_kernel_version 0.37.0\n--enable-glue-datacatalog true\n--extra-py-files s3://pedestrian-analysis-working-bucket/glue-job-scripts/util.py\nWaiting for session f9bb013e-c03d-4a89-b755-99aca0dfc9a1 to get into ready status...\nSession f9bb013e-c03d-4a89-b755-99aca0dfc9a1 has been created.\n\n",
					"output_type": "stream"
				}
			]
		},
		{
			"cell_type": "markdown",
			"source": "####  Create output glue table if it doesn't already exist\n##### The results of this notebook will be loaded into this table",
			"metadata": {
				"editable": true,
				"trusted": true
			}
		},
		{
			"cell_type": "code",
			"source": "BUCKET_NAME = 'pedestrian-analysis-working-bucket'\nDATABASE_NAME = 'pedestrian_analysis_report'\nOUTPUT_TABLE_NAME = 'report_top_10_locations_by_month'\n\nschema = StructType([\n    StructField(\"month\",StringType(),True),\n    StructField(\"rank\",IntegerType(),True),\n    StructField(\"sensor_id\",IntegerType(),True),\n    StructField(\"location_name\",StringType(),True),\n    StructField(\"monthly_count\",IntegerType(),True),\n])\n\ns3_path = f\"s3://{BUCKET_NAME}/report/{OUTPUT_TABLE_NAME}/\"\nutil.create_glue_catalog_table(DATABASE_NAME, OUTPUT_TABLE_NAME, schema, s3_path)",
			"metadata": {
				"editable": true,
				"trusted": true
			},
			"execution_count": 2,
			"outputs": [
				{
					"name": "stdout",
					"text": "Table pedestrian_analysis_report.report_top_10_locations_by_month already exists in the Glue Data Catalog\n",
					"output_type": "stream"
				}
			]
		},
		{
			"cell_type": "markdown",
			"source": "####  Load sensor_counts_by_day",
			"metadata": {
				"editable": true,
				"trusted": true
			}
		},
		{
			"cell_type": "code",
			"source": "sensor_count_by_day_df = glueContext.create_dynamic_frame.from_catalog(\n    database=\"pedestrian_analysis_report\",\n    table_name=\"report_top_10_locations_by_day\"\n).toDF()\n\nsensor_count_by_day_df.show(10, truncate=False)",
			"metadata": {
				"editable": true,
				"trusted": true
			},
			"execution_count": 3,
			"outputs": [
				{
					"name": "stdout",
					"text": "+----------+----+---------+--------------------------+-----------+\n|date      |rank|sensor_id|location_name             |daily_count|\n+----------+----+---------+--------------------------+-----------+\n|2014-09-14|8   |15       |null                      |17467      |\n|2010-05-23|7   |15       |null                      |12199      |\n|2010-08-12|2   |2        |Bourke Street Mall (South)|25877      |\n|2011-11-17|1   |4        |Town Hall (West)          |40499      |\n|2016-04-08|2   |4        |Town Hall (West)          |50777      |\n|2014-03-14|8   |2        |Bourke Street Mall (South)|31466      |\n|2011-06-24|8   |15       |null                      |21495      |\n|2017-12-27|5   |5        |Princes Bridge            |35427      |\n|2009-12-23|2   |2        |Bourke Street Mall (South)|40892      |\n|2011-07-19|8   |5        |Princes Bridge            |15870      |\n+----------+----+---------+--------------------------+-----------+\nonly showing top 10 rows\n",
					"output_type": "stream"
				}
			]
		},
		{
			"cell_type": "markdown",
			"source": "####  Load sensor_reference_data",
			"metadata": {}
		},
		{
			"cell_type": "code",
			"source": "sensor_reference_df = glueContext.create_dynamic_frame.from_catalog(\n    database=\"pedestrian_analysis_raw\",\n    table_name=\"sensor_reference_data\"\n).toDF()\n\nsensor_reference_df.show(10, truncate=False)",
			"metadata": {
				"trusted": true
			},
			"execution_count": 14,
			"outputs": [
				{
					"name": "stdout",
					"text": "+-----------+-----------+-----------------+------------+------------------------------------------+-----------+-------------+------------+---------------------------------------------+---------------------------------+-----------+------+\n|direction_1|direction_2|installation_date|latitude    |location                                  |location_id|location_type|longitude   |note                                         |sensor_description               |sensor_name|status|\n+-----------+-----------+-----------------+------------+------------------------------------------+-----------+-------------+------------+---------------------------------------------+---------------------------------+-----------+------+\n|North      |South      |2009-03-25       |-37.81101524|{lon -> 144.96429485, lat -> -37.81101524}|3          |Outdoor      |144.96429485|null                                         |Melbourne Central                |Swa295_T   |A     |\n|North      |South      |2009-03-23       |-37.81487988|{lon -> 144.9660878, lat -> -37.81487988} |4          |Outdoor      |144.9660878 |null                                         |Town Hall (West)                 |Swa123_T   |A     |\n|East       |West       |2021-12-21       |-37.79432415|{lon -> 144.92973378, lat -> -37.79432415}|85         |Outdoor      |144.92973378|null                                         |Macaulay Rd (North)              |488Mac_T   |A     |\n|North      |South      |2020-03-12       |-37.81569416|{lon -> 144.9668064, lat -> -37.81569416} |65         |Outdoor      |144.9668064 |null                                         |Swanston St - City Square        |SwaCs_T    |A     |\n|null       |null       |2021-03-25       |-37.81442577|{lon -> 144.94436558, lat -> -37.81442577}|120        |Outdoor Blix |144.94436558|null                                         |Harbour Esplanade                |HarbBlix_T |A     |\n|East       |West       |2021-12-21       |-37.80309992|{lon -> 144.94908064, lat -> -37.80309992}|86         |Outdoor      |144.94908064|null                                         |Queensberry St - Errol St (South)|574Qub_T   |A     |\n|East       |West       |2013-09-06       |-37.81172914|{lon -> 144.9682466, lat -> -37.81172914} |20         |Outdoor      |144.9682466 |null                                         |Chinatown-Lt Bourke St (South)   |LtB170_T   |A     |\n|North      |South      |2009-03-24       |-37.82011242|{lon -> 144.96291897, lat -> -37.82011242}|14         |Outdoor      |144.96291897|Sensor relocated to sensor ID 25 on 2/10/2019|Sandridge Bridge                 |SanBri_T   |A     |\n|East       |West       |2019-09-25       |-37.80996494|{lon -> 144.96216521, lat -> -37.80996494}|62         |Outdoor      |144.96216521|null                                         |La Trobe St (North)              |Lat224_T   |A     |\n|In         |Out        |2021-03-30       |-37.82579138|{lon -> 144.96084343, lat -> -37.82579138}|81         |Indoor       |144.96084343|null                                         |Boyd Commuinty - Front door      |BoCoF_T    |A     |\n+-----------+-----------+-----------------+------------+------------------------------------------+-----------+-------------+------------+---------------------------------------------+---------------------------------+-----------+------+\nonly showing top 10 rows\n",
					"output_type": "stream"
				}
			]
		},
		{
			"cell_type": "markdown",
			"source": "####  'date' is currently a full date string\n####  This extracts the year and month",
			"metadata": {
				"editable": true,
				"trusted": true
			}
		},
		{
			"cell_type": "code",
			"source": "sensor_count_by_day_df = sensor_count_by_day_df \\\n    .withColumn(\"year_month\", col(\"date\").substr(1, 7))\n\nsensor_count_by_day_df.show(10, truncate=False)",
			"metadata": {
				"editable": true,
				"trusted": true
			},
			"execution_count": 5,
			"outputs": [
				{
					"name": "stdout",
					"text": "+----------+----+---------+--------------------------+-----------+----------+\n|date      |rank|sensor_id|location_name             |daily_count|year_month|\n+----------+----+---------+--------------------------+-----------+----------+\n|2014-09-14|8   |15       |null                      |17467      |2014-09   |\n|2010-05-23|7   |15       |null                      |12199      |2010-05   |\n|2010-08-12|2   |2        |Bourke Street Mall (South)|25877      |2010-08   |\n|2011-11-17|1   |4        |Town Hall (West)          |40499      |2011-11   |\n|2016-04-08|2   |4        |Town Hall (West)          |50777      |2016-04   |\n|2014-03-14|8   |2        |Bourke Street Mall (South)|31466      |2014-03   |\n|2011-06-24|8   |15       |null                      |21495      |2011-06   |\n|2017-12-27|5   |5        |Princes Bridge            |35427      |2017-12   |\n|2009-12-23|2   |2        |Bourke Street Mall (South)|40892      |2009-12   |\n|2011-07-19|8   |5        |Princes Bridge            |15870      |2011-07   |\n+----------+----+---------+--------------------------+-----------+----------+\nonly showing top 10 rows\n",
					"output_type": "stream"
				}
			]
		},
		{
			"cell_type": "markdown",
			"source": "#### Group by 'year_month' and 'sensor_id' and sum the 'daily_count' per group",
			"metadata": {
				"editable": true,
				"trusted": true
			}
		},
		{
			"cell_type": "code",
			"source": "grouped_sensor_count_df = sensor_count_by_day_df \\\n    .groupBy(\"year_month\", \"sensor_id\") \\\n    .agg(sum(\"daily_count\").alias(\"monthly_count\"))\n\ngrouped_sensor_count_df.show(10, truncate=False)",
			"metadata": {
				"editable": true,
				"trusted": true
			},
			"execution_count": 6,
			"outputs": [
				{
					"name": "stdout",
					"text": "+----------+---------+-------------+\n|year_month|sensor_id|monthly_count|\n+----------+---------+-------------+\n|2014-09   |15       |316922       |\n|2013-05   |5        |673187       |\n|2009-06   |4        |1009857      |\n|2014-06   |5        |655945       |\n|2021-08   |4        |198056       |\n|2013-04   |4        |1134511      |\n|2018-12   |4        |1225432      |\n|2015-09   |5        |821938       |\n|2018-08   |5        |928151       |\n|2010-03   |4        |1145962      |\n+----------+---------+-------------+\nonly showing top 10 rows\n",
					"output_type": "stream"
				}
			]
		},
		{
			"cell_type": "markdown",
			"source": "#### Add a new column 'rank' that ranks the rows within each partition based on their monthly_count",
			"metadata": {}
		},
		{
			"cell_type": "code",
			"source": "window_spec = Window.partitionBy(\"year_month\") \\\n    .orderBy(desc(\"monthly_count\"))\nranked_sensor_count_df = grouped_sensor_count_df \\\n    .withColumn(\"rank\", row_number().over(window_spec))\n\nranked_sensor_count_df.show(10, truncate=False)",
			"metadata": {
				"trusted": true
			},
			"execution_count": 7,
			"outputs": [
				{
					"name": "stdout",
					"text": "+----------+---------+-------------+----+\n|year_month|sensor_id|monthly_count|rank|\n+----------+---------+-------------+----+\n|2010-03   |4        |1145962      |1   |\n|2010-03   |3        |908894       |2   |\n|2010-03   |5        |823435       |3   |\n|2010-03   |2        |819131       |4   |\n|2010-03   |6        |778368       |5   |\n|2010-03   |15       |622935       |6   |\n|2010-03   |1        |620191       |7   |\n|2010-03   |13       |570661       |8   |\n|2010-03   |16       |535246       |9   |\n|2010-03   |17       |311616       |10  |\n+----------+---------+-------------+----+\nonly showing top 10 rows\n",
					"output_type": "stream"
				}
			]
		},
		{
			"cell_type": "markdown",
			"source": "#### Filter the rows where rank <= 10 to get the top 10 sensor_ids for each month",
			"metadata": {}
		},
		{
			"cell_type": "code",
			"source": "top_10_sensors_by_month_df = ranked_sensor_count_df.filter(col(\"rank\") <= 10) \\\n    .orderBy(col(\"year_month\").desc(), col(\"rank\"))\n\ntop_10_sensors_by_month_df.show(10)",
			"metadata": {
				"trusted": true
			},
			"execution_count": 8,
			"outputs": [
				{
					"name": "stdout",
					"text": "+----------+---------+-------------+----+\n|year_month|sensor_id|monthly_count|rank|\n+----------+---------+-------------+----+\n|   2022-10|       41|      1179043|   1|\n|   2022-10|        4|       969871|   2|\n|   2022-10|       35|       953917|   3|\n|   2022-10|       84|       764000|   4|\n|   2022-10|        3|       712606|   5|\n|   2022-10|       66|       669021|   6|\n|   2022-10|        1|       666886|   7|\n|   2022-10|        6|       630154|   8|\n|   2022-10|       25|       545899|   9|\n|   2022-10|       47|       433171|  10|\n+----------+---------+-------------+----+\nonly showing top 10 rows\n",
					"output_type": "stream"
				}
			]
		},
		{
			"cell_type": "markdown",
			"source": "#### Left join the reference data in to obtain the correct sensor_description",
			"metadata": {}
		},
		{
			"cell_type": "code",
			"source": "top_10_sensors_by_month_df = top_10_sensors_by_month_df.join(\n    sensor_reference_df,\n    col(\"sensor_id\") == col(\"location_id\"),\n    \"left\"\n)",
			"metadata": {
				"trusted": true
			},
			"execution_count": 9,
			"outputs": [
				{
					"name": "stdout",
					"text": "\n",
					"output_type": "stream"
				}
			]
		},
		{
			"cell_type": "markdown",
			"source": "#### Select and format final report",
			"metadata": {}
		},
		{
			"cell_type": "code",
			"source": "top_10_sensors_by_month_df = top_10_sensors_by_month_df.select(\n    col('year_month').cast('string'),\n    col('rank'),\n    col('sensor_id'),\n    col('sensor_description').alias('location_name'),\n    col('monthly_count').cast('int').alias('monthly_count')\n)\n\ntop_10_sensors_by_month_df.show(100, truncate=False)",
			"metadata": {
				"trusted": true
			},
			"execution_count": 13,
			"outputs": [
				{
					"name": "stdout",
					"text": "+----------+----+---------+---------------------------------+-------------+\n|year_month|rank|sensor_id|location_name                    |monthly_count|\n+----------+----+---------+---------------------------------+-------------+\n|2010-03   |1   |4        |Town Hall (West)                 |1145962      |\n|2010-03   |2   |3        |Melbourne Central                |908894       |\n|2010-03   |3   |5        |Princes Bridge                   |823435       |\n|2010-03   |4   |2        |Bourke Street Mall (South)       |819131       |\n|2010-03   |5   |6        |Flinders Street Station Underpass|778368       |\n|2010-03   |6   |15       |null                             |622935       |\n|2010-03   |7   |1        |Bourke Street Mall (North)       |620191       |\n|2010-03   |8   |13       |null                             |570661       |\n|2010-03   |9   |16       |null                             |535246       |\n|2010-03   |10  |17       |Collins Place (South)            |311616       |\n|2010-05   |1   |4        |Town Hall (West)                 |1043343      |\n|2010-05   |2   |2        |Bourke Street Mall (South)       |794259       |\n|2010-05   |3   |3        |Melbourne Central                |787414       |\n|2010-05   |4   |6        |Flinders Street Station Underpass|718316       |\n|2010-05   |5   |5        |Princes Bridge                   |665106       |\n|2010-05   |6   |1        |Bourke Street Mall (North)       |570325       |\n|2010-05   |7   |13       |null                             |530540       |\n|2010-05   |8   |15       |null                             |523839       |\n|2010-05   |9   |16       |null                             |485445       |\n|2010-05   |10  |17       |Collins Place (South)            |305347       |\n|2010-07   |1   |4        |Town Hall (West)                 |1104454      |\n|2010-07   |2   |3        |Melbourne Central                |825843       |\n|2010-07   |3   |2        |Bourke Street Mall (South)       |807012       |\n|2010-07   |4   |6        |Flinders Street Station Underpass|755116       |\n|2010-07   |5   |5        |Princes Bridge                   |688388       |\n|2010-07   |6   |1        |Bourke Street Mall (North)       |615352       |\n|2010-07   |7   |16       |null                             |551681       |\n|2010-07   |8   |15       |null                             |520724       |\n|2010-07   |9   |13       |null                             |519763       |\n|2010-07   |10  |17       |Collins Place (South)            |308116       |\n|2010-11   |1   |4        |Town Hall (West)                 |1050132      |\n|2010-11   |2   |2        |Bourke Street Mall (South)       |879738       |\n|2010-11   |3   |6        |Flinders Street Station Underpass|781536       |\n|2010-11   |4   |3        |Melbourne Central                |756614       |\n|2010-11   |5   |5        |Princes Bridge                   |563694       |\n|2010-11   |6   |16       |null                             |526471       |\n|2010-11   |7   |13       |null                             |524603       |\n|2010-11   |8   |15       |null                             |478520       |\n|2010-11   |9   |17       |Collins Place (South)            |347524       |\n|2010-11   |10  |1        |Bourke Street Mall (North)       |189508       |\n|2011-11   |1   |4        |Town Hall (West)                 |1080001      |\n|2011-11   |2   |2        |Bourke Street Mall (South)       |927147       |\n|2011-11   |3   |6        |Flinders Street Station Underpass|827084       |\n|2011-11   |4   |3        |Melbourne Central                |785557       |\n|2011-11   |5   |5        |Princes Bridge                   |596603       |\n|2011-11   |6   |13       |null                             |538431       |\n|2011-11   |7   |16       |null                             |535336       |\n|2011-11   |8   |15       |null                             |438092       |\n|2011-11   |9   |17       |Collins Place (South)            |352681       |\n|2011-11   |10  |9        |Southern Cross Station           |269681       |\n|2012-03   |1   |4        |Town Hall (West)                 |1337313      |\n|2012-03   |2   |3        |Melbourne Central                |963082       |\n|2012-03   |3   |2        |Bourke Street Mall (South)       |892089       |\n|2012-03   |4   |6        |Flinders Street Station Underpass|886703       |\n|2012-03   |5   |5        |Princes Bridge                   |754918       |\n|2012-03   |6   |1        |Bourke Street Mall (North)       |751873       |\n|2012-03   |7   |15       |null                             |670004       |\n|2012-03   |8   |13       |null                             |557112       |\n|2012-03   |9   |16       |null                             |550606       |\n|2012-03   |10  |7        |Birrarung Marr                   |267412       |\n|2012-05   |1   |4        |Town Hall (West)                 |1213806      |\n|2012-05   |2   |3        |Melbourne Central                |879005       |\n|2012-05   |3   |6        |Flinders Street Station Underpass|829807       |\n|2012-05   |4   |2        |Bourke Street Mall (South)       |812254       |\n|2012-05   |5   |1        |Bourke Street Mall (North)       |690695       |\n|2012-05   |6   |13       |null                             |598813       |\n|2012-05   |7   |15       |null                             |597685       |\n|2012-05   |8   |5        |Princes Bridge                   |584572       |\n|2012-05   |9   |16       |null                             |511960       |\n|2012-05   |10  |9        |Southern Cross Station           |207195       |\n|2012-06   |1   |4        |Town Hall (West)                 |1139939      |\n|2012-06   |2   |3        |Melbourne Central                |813134       |\n|2012-06   |3   |2        |Bourke Street Mall (South)       |810148       |\n|2012-06   |4   |6        |Flinders Street Station Underpass|770660       |\n|2012-06   |5   |1        |Bourke Street Mall (North)       |651107       |\n|2012-06   |6   |5        |Princes Bridge                   |545042       |\n|2012-06   |7   |15       |null                             |501487       |\n|2012-06   |8   |16       |null                             |498005       |\n|2012-06   |9   |13       |null                             |494332       |\n|2012-06   |10  |9        |Southern Cross Station           |272780       |\n|2012-09   |1   |4        |Town Hall (West)                 |993690       |\n|2012-09   |2   |3        |Melbourne Central                |910455       |\n|2012-09   |3   |6        |Flinders Street Station Underpass|783968       |\n|2012-09   |4   |1        |Bourke Street Mall (North)       |752744       |\n|2012-09   |5   |2        |Bourke Street Mall (South)       |749446       |\n|2012-09   |6   |5        |Princes Bridge                   |663964       |\n|2012-09   |7   |16       |null                             |491753       |\n|2012-09   |8   |13       |null                             |486325       |\n|2012-09   |9   |7        |Birrarung Marr                   |304738       |\n|2012-09   |10  |9        |Southern Cross Station           |297338       |\n|2013-07   |1   |4        |Town Hall (West)                 |1089411      |\n|2013-07   |2   |3        |Melbourne Central                |907766       |\n|2013-07   |3   |1        |Bourke Street Mall (North)       |839856       |\n|2013-07   |4   |2        |Bourke Street Mall (South)       |826430       |\n|2013-07   |5   |5        |Princes Bridge                   |743225       |\n|2013-07   |6   |6        |Flinders Street Station Underpass|629168       |\n|2013-07   |7   |16       |null                             |564946       |\n|2013-07   |8   |13       |null                             |546101       |\n|2013-07   |9   |9        |Southern Cross Station           |425407       |\n|2013-07   |10  |17       |Collins Place (South)            |282135       |\n+----------+----+---------+---------------------------------+-------------+\nonly showing top 100 rows\n",
					"output_type": "stream"
				}
			]
		},
		{
			"cell_type": "markdown",
			"source": "#### Upload to S3",
			"metadata": {}
		},
		{
			"cell_type": "code",
			"source": "util.upload_to_s3(glueContext, top_10_sensors_by_month_df, s3_path)",
			"metadata": {
				"trusted": true
			},
			"execution_count": 15,
			"outputs": [
				{
					"name": "stdout",
					"text": "Successfully Uploaded to s3 in path: s3://pedestrian-analysis-working-bucket/report/report_top_10_locations_by_month/\n",
					"output_type": "stream"
				}
			]
		},
		{
			"cell_type": "code",
			"source": "",
			"metadata": {},
			"execution_count": null,
			"outputs": []
		}
	]
}