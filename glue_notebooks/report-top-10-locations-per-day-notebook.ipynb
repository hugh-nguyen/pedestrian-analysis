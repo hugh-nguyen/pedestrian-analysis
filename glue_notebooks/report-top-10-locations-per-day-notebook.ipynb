{
	"metadata": {
		"kernelspec": {
			"name": "glue_pyspark",
			"display_name": "Glue PySpark",
			"language": "python"
		},
		"language_info": {
			"name": "Python_Glue_Session",
			"mimetype": "text/x-python",
			"codemirror_mode": {
				"name": "python",
				"version": 3
			},
			"pygments_lexer": "python3",
			"file_extension": ".py"
		}
	},
	"nbformat_minor": 4,
	"nbformat": 4,
	"cells": [
		{
			"cell_type": "markdown",
			"source": "# Top 10 locations by day\n",
			"metadata": {
				"editable": true,
				"trusted": true
			}
		},
		{
			"cell_type": "markdown",
			"source": "####  Import packages and start the session\n",
			"metadata": {
				"editable": true,
				"tags": [],
				"trusted": true
			}
		},
		{
			"cell_type": "code",
			"source": "%idle_timeout 2880\n%glue_version 3.0\n%worker_type G.1X\n%number_of_workers 2\n%extra_py_files s3://pedestrian-analysis-working-bucket/glue-job-scripts/util.py\n\nimport sys, io, zipfile, pandas as pd, util\nfrom datetime import datetime\n\nfrom pyspark.sql.functions import sum, col, rank, desc, lit\nfrom pyspark.sql.window import Window\nfrom pyspark.sql.functions import row_number\n\nfrom pyspark.context import SparkContext\nfrom pyspark.sql.types import (\n    StructType, StructField, StringType, IntegerType, DoubleType, TimestampType\n)\n\nfrom awsglue.utils import getResolvedOptions\nfrom awsglue.context import GlueContext\nfrom awsglue.job import Job\n\n\nsc = SparkContext.getOrCreate()\nglueContext = GlueContext(sc)\nspark = glueContext.spark_session\njob = Job(glueContext)",
			"metadata": {
				"editable": true,
				"trusted": true
			},
			"execution_count": 1,
			"outputs": [
				{
					"name": "stdout",
					"text": "Welcome to the Glue Interactive Sessions Kernel\nFor more information on available magic commands, please type %help in any new cell.\n\nPlease view our Getting Started page to access the most up-to-date information on the Interactive Sessions kernel: https://docs.aws.amazon.com/glue/latest/dg/interactive-sessions.html\nInstalled kernel version: 0.37.0 \nCurrent idle_timeout is 2800 minutes.\nidle_timeout has been set to 2880 minutes.\nSetting Glue version to: 3.0\nPrevious worker type: G.1X\nSetting new worker type to: G.1X\nPrevious number of workers: 5\nSetting new number of workers to: 2\nExtra py files to be included:\ns3://pedestrian-analysis-working-bucket/glue-job-scripts/util.py\nAuthenticating with environment variables and user-defined glue_role_arn: arn:aws:iam::632753217422:role/pedestrians-analysis-gluejob-role\nTrying to create a Glue session for the kernel.\nWorker Type: G.1X\nNumber of Workers: 2\nSession ID: f9c32cea-fa21-4803-92b3-dc049ee08b88\nJob Type: glueetl\nApplying the following default arguments:\n--glue_kernel_version 0.37.0\n--enable-glue-datacatalog true\n--extra-py-files s3://pedestrian-analysis-working-bucket/glue-job-scripts/util.py\nWaiting for session f9c32cea-fa21-4803-92b3-dc049ee08b88 to get into ready status...\nSession f9c32cea-fa21-4803-92b3-dc049ee08b88 has been created.\n\n",
					"output_type": "stream"
				}
			]
		},
		{
			"cell_type": "markdown",
			"source": "####  Create output glue table if it doesn't already exist\n##### The results of this notebook will be loaded into this table\n",
			"metadata": {
				"editable": true,
				"tags": [],
				"trusted": true
			}
		},
		{
			"cell_type": "code",
			"source": "BUCKET_NAME = 'pedestrian-analysis-working-bucket'\nDATABASE_NAME = 'pedestrian_analysis_report'\nOUTPUT_TABLE_NAME = 'report_top_10_locations_by_day'\n\n# Define the schema for the table\nschema = StructType([\n    StructField(\"date\",StringType(),True),\n    StructField(\"rank\",IntegerType(),True),\n    StructField(\"sensor_id\",IntegerType(),True),\n    StructField(\"location_name\",StringType(),True),\n    StructField(\"daily_count\",IntegerType(),True),\n])\n\ns3_path = f\"s3://{BUCKET_NAME}/report/{OUTPUT_TABLE_NAME}/\"\nutil.create_glue_catalog_table(DATABASE_NAME, OUTPUT_TABLE_NAME, schema, s3_path)",
			"metadata": {
				"trusted": true
			},
			"execution_count": 2,
			"outputs": [
				{
					"name": "stdout",
					"text": "Table pedestrian_analysis_report.report_top_10_locations_by_day not found in the Glue Data Catalog. Creating table...\nTable pedestrian_analysis_report.report_top_10_locations_by_day created in the Glue Data Catalog\n",
					"output_type": "stream"
				}
			]
		},
		{
			"cell_type": "markdown",
			"source": "####  Load sensor_counts\n",
			"metadata": {
				"editable": true,
				"tags": [],
				"trusted": true
			}
		},
		{
			"cell_type": "code",
			"source": "sensor_count_df = glueContext.create_dynamic_frame.from_catalog(\n    database=\"pedestrian_analysis_raw\",\n    table_name=\"sensor_counts\"\n).toDF()\n\nsensor_count_df.show(10, truncate=False)",
			"metadata": {
				"trusted": true
			},
			"execution_count": 3,
			"outputs": [
				{
					"name": "stdout",
					"text": "+-------+-------------------+---------+--------------------------------------+------------+\n|id     |date_time          |sensor_id|sensor_name                           |hourly_count|\n+-------+-------------------+---------+--------------------------------------+------------+\n|2902119|2019-11-12T22:00:00|11       |Waterfront City                       |27          |\n|763567 |2014-01-24T10:00:00|25       |Melbourne Convention Exhibition Centre|436         |\n|1028480|2015-01-06T16:00:00|23       |Spencer St-Collins St (South)         |760         |\n|331173 |2011-07-08T12:00:00|10       |Victoria Point                        |569         |\n|430567 |2012-03-03T19:00:00|1        |Bourke Street Mall (North)            |847         |\n|631323 |2013-06-14T14:00:00|4        |Town Hall (West)                      |3219        |\n|573323 |2013-01-30T13:00:00|16       |Australia on Collins                  |2931        |\n|408282 |2012-01-12T04:00:00|18       |Collins Place (North)                 |1           |\n|754463 |2014-01-12T13:00:00|6        |Flinders Street Station Underpass     |1154        |\n|1139175|2015-05-13T19:00:00|11       |Waterfront City                       |39          |\n+-------+-------------------+---------+--------------------------------------+------------+\nonly showing top 10 rows\n",
					"output_type": "stream"
				}
			]
		},
		{
			"cell_type": "markdown",
			"source": "####  Load sensor_reference_data\n",
			"metadata": {
				"editable": true,
				"tags": [],
				"trusted": true
			}
		},
		{
			"cell_type": "code",
			"source": "sensor_reference_df = glueContext.create_dynamic_frame.from_catalog(\n    database=\"pedestrian_analysis_raw\",\n    table_name=\"sensor_reference_data\"\n).toDF()\n\nsensor_reference_df.show(10)",
			"metadata": {
				"trusted": true
			},
			"execution_count": 4,
			"outputs": [
				{
					"name": "stdout",
					"text": "+-----------+-----------+-----------------+------------+--------------------+-----------+-------------+------------+----+--------------------+-----------+------+\n|direction_1|direction_2|installation_date|    latitude|            location|location_id|location_type|   longitude|note|  sensor_description|sensor_name|status|\n+-----------+-----------+-----------------+------------+--------------------+-----------+-------------+------------+----+--------------------+-----------+------+\n|         In|        Out|       2021-11-05|-37.80680012|{lon -> 144.96001...|         82|       Indoor|144.96001735|null|510 Elizabeth Str...|   Eli510_T|     A|\n|         In|        Out|       2022-07-28|-37.81330972|{lon -> 144.96687...|         88|       Indoor|144.96687704|null|          Micro-Labs|   MicLab_T|     A|\n|       East|       West|       2019-09-25|-37.80996494|{lon -> 144.96216...|         62|      Outdoor|144.96216521|null| La Trobe St (North)|   Lat224_T|     A|\n|         In|        Out|       2013-02-02|-37.81498411|{lon -> 144.98638...|         93|       Indoor|144.98638807|null|East Melbourne Li...|  EastLib_T|     A|\n|      North|      South|       2020-04-06|-37.81057846|{lon -> 144.96444...|         66|      Outdoor|144.96444294|null| State Library - New|      QVN_T|     A|\n|       East|       West|       2021-02-20|-37.79453803|{lon -> 144.93036...|         76|      Outdoor|144.93036194|null|Macaulay Rd- Bell...|   KenMac_T|     A|\n|      North|      South|       2022-05-20|-37.80454949|{lon -> 144.94921...|         87|      Outdoor|144.94921863|null|     Errol St (West)|  Errol23_T|     A|\n|      North|      South|       2013-10-10|-37.80169681|{lon -> 144.96658...|         31|      Outdoor|144.96658911|null|     Lygon St (West)|   Lyg161_T|     A|\n|       East|       West|       2009-03-30|-37.81344862|{lon -> 144.97305...|         18|      Outdoor|144.97305353|null|Collins Place (No...|    Col12_T|     A|\n|      North|      South|       2017-11-30|-37.79808192|{lon -> 144.96721...|         50|      Outdoor|144.96721013|null|Faraday St-Lygon ...|   Lyg309_T|     A|\n+-----------+-----------+-----------------+------------+--------------------+-----------+-------------+------------+----+--------------------+-----------+------+\nonly showing top 10 rows\n",
					"output_type": "stream"
				}
			]
		},
		{
			"cell_type": "markdown",
			"source": "####  'date_time' is currently a full iso formatted string\n####  This converts date_time to a timestamp and then to a date\n",
			"metadata": {
				"editable": true,
				"tags": [],
				"trusted": true
			}
		},
		{
			"cell_type": "code",
			"source": "sensor_count_df = sensor_count_df \\\n    .withColumn(\"date_time\", col(\"date_time\").cast(\"timestamp\")) \\\n    .withColumn(\"date\", col(\"date_time\").cast(\"date\"))\nsensor_count_df.show(10, truncate=False)",
			"metadata": {
				"trusted": true
			},
			"execution_count": 5,
			"outputs": [
				{
					"name": "stdout",
					"text": "+-------+-------------------+---------+--------------------------------------+------------+----------+\n|id     |date_time          |sensor_id|sensor_name                           |hourly_count|date      |\n+-------+-------------------+---------+--------------------------------------+------------+----------+\n|2902119|2019-11-12 22:00:00|11       |Waterfront City                       |27          |2019-11-12|\n|763567 |2014-01-24 10:00:00|25       |Melbourne Convention Exhibition Centre|436         |2014-01-24|\n|1028480|2015-01-06 16:00:00|23       |Spencer St-Collins St (South)         |760         |2015-01-06|\n|331173 |2011-07-08 12:00:00|10       |Victoria Point                        |569         |2011-07-08|\n|430567 |2012-03-03 19:00:00|1        |Bourke Street Mall (North)            |847         |2012-03-03|\n|631323 |2013-06-14 14:00:00|4        |Town Hall (West)                      |3219        |2013-06-14|\n|573323 |2013-01-30 13:00:00|16       |Australia on Collins                  |2931        |2013-01-30|\n|408282 |2012-01-12 04:00:00|18       |Collins Place (North)                 |1           |2012-01-12|\n|754463 |2014-01-12 13:00:00|6        |Flinders Street Station Underpass     |1154        |2014-01-12|\n|1139175|2015-05-13 19:00:00|11       |Waterfront City                       |39          |2015-05-13|\n+-------+-------------------+---------+--------------------------------------+------------+----------+\nonly showing top 10 rows\n",
					"output_type": "stream"
				}
			]
		},
		{
			"cell_type": "markdown",
			"source": "#### Group by 'date' and 'sensor_id' and sum the 'hourly_counts' per group",
			"metadata": {}
		},
		{
			"cell_type": "code",
			"source": "grouped_sensor_count_df = sensor_count_df \\\n    .groupBy(\"date\", \"sensor_id\") \\\n    .agg(sum(\"hourly_count\").alias(\"daily_count\"))\n\ngrouped_sensor_count_df.show(10, truncate=False)",
			"metadata": {
				"trusted": true
			},
			"execution_count": 6,
			"outputs": [
				{
					"name": "stdout",
					"text": "+----------+---------+-----------+\n|date      |sensor_id|daily_count|\n+----------+---------+-----------+\n|2014-01-24|25       |8768       |\n|2011-07-08|10       |7037       |\n|2013-01-30|16       |18984      |\n|2014-05-16|17       |14861      |\n|2015-03-06|12       |3669       |\n|2014-03-12|25       |10503      |\n|2013-01-28|4        |27588      |\n|2014-07-06|18       |2251       |\n|2009-09-18|12       |4797       |\n|2009-12-24|16       |16926      |\n+----------+---------+-----------+\nonly showing top 10 rows\n",
					"output_type": "stream"
				}
			]
		},
		{
			"cell_type": "markdown",
			"source": "#### Add a new column 'rank' that ranks the rows within each partition based on their daily_count",
			"metadata": {}
		},
		{
			"cell_type": "code",
			"source": "window_spec = Window.partitionBy(\"date\") \\\n    .orderBy(desc(\"daily_count\"))\nranked_sensor_count_df = grouped_sensor_count_df \\\n    .withColumn(\"rank\", row_number().over(window_spec))\n\nranked_sensor_count_df.show(10, truncate=False)",
			"metadata": {
				"trusted": true
			},
			"execution_count": 7,
			"outputs": [
				{
					"name": "stdout",
					"text": "+----------+---------+-----------+----+\n|date      |sensor_id|daily_count|rank|\n+----------+---------+-----------+----+\n|2009-05-04|4        |34983      |1   |\n|2009-05-04|1        |26481      |2   |\n|2009-05-04|6        |25887      |3   |\n|2009-05-04|13       |25829      |4   |\n|2009-05-04|5        |19720      |5   |\n|2009-05-04|2        |19452      |6   |\n|2009-05-04|15       |18130      |7   |\n|2009-05-04|16       |18044      |8   |\n|2009-05-04|17       |13657      |9   |\n|2009-05-04|18       |11656      |10  |\n+----------+---------+-----------+----+\nonly showing top 10 rows\n",
					"output_type": "stream"
				}
			]
		},
		{
			"cell_type": "markdown",
			"source": "#### Filter the rows where rank <= 10 to get the top 10 sensor_ids for each day",
			"metadata": {}
		},
		{
			"cell_type": "code",
			"source": "top_10_sensors_by_day_df = ranked_sensor_count_df.filter(col(\"rank\") <= 10) \\\n    .orderBy(col(\"date\").desc(), col(\"rank\"))\n\ntop_10_sensors_by_day_df.show(10)",
			"metadata": {
				"trusted": true
			},
			"execution_count": 8,
			"outputs": [
				{
					"name": "stdout",
					"text": "+----------+---------+-----------+----+\n|      date|sensor_id|daily_count|rank|\n+----------+---------+-----------+----+\n|2022-10-31|       41|      41206|   1|\n|2022-10-31|        4|      35015|   2|\n|2022-10-31|        5|      28340|   3|\n|2022-10-31|        1|      25176|   4|\n|2022-10-31|       84|      24036|   5|\n|2022-10-31|        3|      22860|   6|\n|2022-10-31|       66|      21295|   7|\n|2022-10-31|       35|      21090|   8|\n|2022-10-31|       47|      19100|   9|\n|2022-10-31|       28|      17537|  10|\n+----------+---------+-----------+----+\nonly showing top 10 rows\n",
					"output_type": "stream"
				}
			]
		},
		{
			"cell_type": "markdown",
			"source": "#### Left join the reference data in to obtain the correct sensor_description",
			"metadata": {}
		},
		{
			"cell_type": "code",
			"source": "top_10_sensors_by_day_df = top_10_sensors_by_day_df.join(\n    sensor_reference_df,\n    col(\"sensor_id\") == col(\"location_id\"),\n    \"left\"\n)",
			"metadata": {
				"trusted": true
			},
			"execution_count": 9,
			"outputs": [
				{
					"name": "stdout",
					"text": "\n",
					"output_type": "stream"
				}
			]
		},
		{
			"cell_type": "markdown",
			"source": "#### Select and format final report",
			"metadata": {}
		},
		{
			"cell_type": "code",
			"source": "top_10_sensors_by_day_df = top_10_sensors_by_day_df.select(\n    col('date').cast('string'),\n    col('rank').cast('int'),\n    col('sensor_id').cast('int'),\n    col('sensor_description').alias('location_name'),\n    col('daily_count').cast('int').alias('daily_count')\n)\n\ntop_10_sensors_by_day_df.show(100, truncate=False)",
			"metadata": {
				"trusted": true
			},
			"execution_count": 10,
			"outputs": [
				{
					"name": "stdout",
					"text": "+----------+----+---------+---------------------------------+-----------+\n|date      |rank|sensor_id|location_name                    |daily_count|\n+----------+----+---------+---------------------------------+-----------+\n|2009-05-04|1   |4        |Town Hall (West)                 |34983      |\n|2009-05-04|2   |1        |Bourke Street Mall (North)       |26481      |\n|2009-05-04|3   |6        |Flinders Street Station Underpass|25887      |\n|2009-05-04|4   |13       |null                             |25829      |\n|2009-05-04|5   |5        |Princes Bridge                   |19720      |\n|2009-05-04|6   |2        |Bourke Street Mall (South)       |19452      |\n|2009-05-04|7   |15       |null                             |18130      |\n|2009-05-04|8   |16       |null                             |18044      |\n|2009-05-04|9   |17       |Collins Place (South)            |13657      |\n|2009-05-04|10  |18       |Collins Place (North)            |11656      |\n|2009-05-11|1   |4        |Town Hall (West)                 |32248      |\n|2009-05-11|2   |13       |null                             |25212      |\n|2009-05-11|3   |1        |Bourke Street Mall (North)       |24359      |\n|2009-05-11|4   |6        |Flinders Street Station Underpass|24203      |\n|2009-05-11|5   |5        |Princes Bridge                   |18717      |\n|2009-05-11|6   |2        |Bourke Street Mall (South)       |17943      |\n|2009-05-11|7   |15       |null                             |17933      |\n|2009-05-11|8   |16       |null                             |16773      |\n|2009-05-11|9   |17       |Collins Place (South)            |13526      |\n|2009-05-11|10  |18       |Collins Place (North)            |11638      |\n|2009-05-14|1   |4        |Town Hall (West)                 |37207      |\n|2009-05-14|2   |1        |Bourke Street Mall (North)       |27030      |\n|2009-05-14|3   |6        |Flinders Street Station Underpass|25745      |\n|2009-05-14|4   |13       |null                             |25087      |\n|2009-05-14|5   |5        |Princes Bridge                   |22920      |\n|2009-05-14|6   |2        |Bourke Street Mall (South)       |20963      |\n|2009-05-14|7   |16       |null                             |19153      |\n|2009-05-14|8   |15       |null                             |18889      |\n|2009-05-14|9   |17       |Collins Place (South)            |14679      |\n|2009-05-14|10  |18       |Collins Place (North)            |11987      |\n|2009-05-20|1   |4        |Town Hall (West)                 |33567      |\n|2009-05-20|2   |3        |Melbourne Central                |26640      |\n|2009-05-20|3   |6        |Flinders Street Station Underpass|26389      |\n|2009-05-20|4   |1        |Bourke Street Mall (North)       |25644      |\n|2009-05-20|5   |13       |null                             |25520      |\n|2009-05-20|6   |5        |Princes Bridge                   |22281      |\n|2009-05-20|7   |2        |Bourke Street Mall (South)       |19924      |\n|2009-05-20|8   |15       |null                             |19653      |\n|2009-05-20|9   |16       |null                             |18157      |\n|2009-05-20|10  |17       |Collins Place (South)            |14661      |\n|2009-05-27|1   |4        |Town Hall (West)                 |33565      |\n|2009-05-27|2   |6        |Flinders Street Station Underpass|26302      |\n|2009-05-27|3   |1        |Bourke Street Mall (North)       |25576      |\n|2009-05-27|4   |13       |null                             |25408      |\n|2009-05-27|5   |3        |Melbourne Central                |25209      |\n|2009-05-27|6   |5        |Princes Bridge                   |20991      |\n|2009-05-27|7   |2        |Bourke Street Mall (South)       |18766      |\n|2009-05-27|8   |15       |null                             |17785      |\n|2009-05-27|9   |16       |null                             |17607      |\n|2009-05-27|10  |17       |Collins Place (South)            |14323      |\n|2009-05-28|1   |4        |Town Hall (West)                 |34324      |\n|2009-05-28|2   |1        |Bourke Street Mall (North)       |26874      |\n|2009-05-28|3   |6        |Flinders Street Station Underpass|26063      |\n|2009-05-28|4   |13       |null                             |25691      |\n|2009-05-28|5   |3        |Melbourne Central                |24848      |\n|2009-05-28|6   |5        |Princes Bridge                   |20780      |\n|2009-05-28|7   |2        |Bourke Street Mall (South)       |19307      |\n|2009-05-28|8   |16       |null                             |18558      |\n|2009-05-28|9   |15       |null                             |17519      |\n|2009-05-28|10  |17       |Collins Place (South)            |13984      |\n|2009-05-31|1   |4        |Town Hall (West)                 |32336      |\n|2009-05-31|2   |3        |Melbourne Central                |24835      |\n|2009-05-31|3   |5        |Princes Bridge                   |21730      |\n|2009-05-31|4   |1        |Bourke Street Mall (North)       |21723      |\n|2009-05-31|5   |6        |Flinders Street Station Underpass|16761      |\n|2009-05-31|6   |2        |Bourke Street Mall (South)       |15192      |\n|2009-05-31|7   |15       |null                             |15132      |\n|2009-05-31|8   |12       |New Quay                         |10503      |\n|2009-05-31|9   |16       |null                             |10138      |\n|2009-05-31|10  |11       |Waterfront City                  |9870       |\n|2009-06-02|1   |4        |Town Hall (West)                 |31054      |\n|2009-06-02|2   |13       |null                             |25622      |\n|2009-06-02|3   |1        |Bourke Street Mall (North)       |25108      |\n|2009-06-02|4   |6        |Flinders Street Station Underpass|25087      |\n|2009-06-02|5   |3        |Melbourne Central                |22960      |\n|2009-06-02|6   |2        |Bourke Street Mall (South)       |19607      |\n|2009-06-02|7   |16       |null                             |18023      |\n|2009-06-02|8   |5        |Princes Bridge                   |17591      |\n|2009-06-02|9   |15       |null                             |16291      |\n|2009-06-02|10  |17       |Collins Place (South)            |13902      |\n|2009-06-03|1   |4        |Town Hall (West)                 |33780      |\n|2009-06-03|2   |1        |Bourke Street Mall (North)       |29624      |\n|2009-06-03|3   |6        |Flinders Street Station Underpass|26564      |\n|2009-06-03|4   |13       |null                             |25562      |\n|2009-06-03|5   |3        |Melbourne Central                |23618      |\n|2009-06-03|6   |2        |Bourke Street Mall (South)       |22245      |\n|2009-06-03|7   |5        |Princes Bridge                   |22028      |\n|2009-06-03|8   |16       |null                             |18501      |\n|2009-06-03|9   |15       |null                             |16526      |\n|2009-06-03|10  |17       |Collins Place (South)            |14974      |\n|2009-06-05|1   |4        |Town Hall (West)                 |41699      |\n|2009-06-05|2   |1        |Bourke Street Mall (North)       |36573      |\n|2009-06-05|3   |3        |Melbourne Central                |31035      |\n|2009-06-05|4   |6        |Flinders Street Station Underpass|29533      |\n|2009-06-05|5   |2        |Bourke Street Mall (South)       |28172      |\n|2009-06-05|6   |5        |Princes Bridge                   |23874      |\n|2009-06-05|7   |13       |null                             |23468      |\n|2009-06-05|8   |16       |null                             |21345      |\n|2009-06-05|9   |15       |null                             |20445      |\n|2009-06-05|10  |17       |Collins Place (South)            |13825      |\n+----------+----+---------+---------------------------------+-----------+\nonly showing top 100 rows\n",
					"output_type": "stream"
				}
			]
		},
		{
			"cell_type": "markdown",
			"source": "#### Upload to S3",
			"metadata": {}
		},
		{
			"cell_type": "code",
			"source": "util.upload_to_s3(glueContext, top_10_sensors_by_day_df, s3_path)",
			"metadata": {
				"trusted": true
			},
			"execution_count": 11,
			"outputs": [
				{
					"name": "stdout",
					"text": "Successfully Uploaded to s3 in path: s3://pedestrian-analysis-working-bucket/report/report_top_10_locations_by_day/\n",
					"output_type": "stream"
				}
			]
		}
	]
}