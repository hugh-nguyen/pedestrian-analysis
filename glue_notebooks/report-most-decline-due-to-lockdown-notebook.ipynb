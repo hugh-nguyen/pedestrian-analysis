{
	"metadata": {
		"kernelspec": {
			"name": "glue_pyspark",
			"display_name": "Glue PySpark",
			"language": "python"
		},
		"language_info": {
			"name": "Python_Glue_Session",
			"mimetype": "text/x-python",
			"codemirror_mode": {
				"name": "python",
				"version": 3
			},
			"pygments_lexer": "python3",
			"file_extension": ".py"
		}
	},
	"nbformat_minor": 4,
	"nbformat": 4,
	"cells": [
		{
			"cell_type": "markdown",
			"source": "# Locations with Most Decline Due to Lockdown",
			"metadata": {
				"editable": true,
				"trusted": true
			}
		},
		{
			"cell_type": "markdown",
			"source": "####  Import packages and start the session",
			"metadata": {
				"editable": true,
				"trusted": true
			}
		},
		{
			"cell_type": "code",
			"source": "%idle_timeout 2880\n%glue_version 3.0\n%worker_type G.1X\n%number_of_workers 2\n%extra_py_files s3://pedestrian-analysis-working-bucket/glue-job-scripts/util.py\n\nimport sys, io, util\nfrom datetime import datetime, timedelta\n\nfrom pyspark.sql.types import (\n    StructType, StructField, StringType, IntegerType, DoubleType, TimestampType\n)\n\nfrom pyspark.context import SparkContext\nfrom pyspark.sql.functions import sum, col, rank, desc, lit, when\nfrom pyspark.sql.window import Window\nfrom awsglue.utils import getResolvedOptions\nfrom awsglue.context import GlueContext\nfrom awsglue.job import Job\n\nsc = SparkContext.getOrCreate()\nglueContext = GlueContext(sc)\nspark = glueContext.spark_session\njob = Job(glueContext)",
			"metadata": {
				"editable": true,
				"trusted": true
			},
			"execution_count": 1,
			"outputs": [
				{
					"name": "stdout",
					"text": "Welcome to the Glue Interactive Sessions Kernel\nFor more information on available magic commands, please type %help in any new cell.\n\nPlease view our Getting Started page to access the most up-to-date information on the Interactive Sessions kernel: https://docs.aws.amazon.com/glue/latest/dg/interactive-sessions.html\nInstalled kernel version: 0.37.0 \nCurrent idle_timeout is 2800 minutes.\nidle_timeout has been set to 2880 minutes.\nSetting Glue version to: 3.0\nPrevious worker type: G.1X\nSetting new worker type to: G.1X\nPrevious number of workers: 5\nSetting new number of workers to: 2\nExtra py files to be included:\ns3://pedestrian-analysis-working-bucket/glue-job-scripts/util.py\nAuthenticating with environment variables and user-defined glue_role_arn: arn:aws:iam::632753217422:role/pedestrians-analysis-notebook-role\nTrying to create a Glue session for the kernel.\nWorker Type: G.1X\nNumber of Workers: 2\nSession ID: dff3e5fe-335e-444b-b215-d4446a7aa0f7\nJob Type: glueetl\nApplying the following default arguments:\n--glue_kernel_version 0.37.0\n--enable-glue-datacatalog true\n--extra-py-files s3://pedestrian-analysis-working-bucket/glue-job-scripts/util.py\nWaiting for session dff3e5fe-335e-444b-b215-d4446a7aa0f7 to get into ready status...\nSession dff3e5fe-335e-444b-b215-d4446a7aa0f7 has been created.\n\n",
					"output_type": "stream"
				}
			]
		},
		{
			"cell_type": "markdown",
			"source": "####  Create output glue table if it doesn't already exist\n##### The results of this notebook will be loaded into this table",
			"metadata": {
				"editable": true,
				"trusted": true
			}
		},
		{
			"cell_type": "code",
			"source": "BUCKET_NAME = 'pedestrian-analysis-working-bucket'\nDATABASE_NAME = 'pedestrian_analysis_report'\nOUTPUT_TABLE_NAME = 'report_location_declines_due_to_lockdown'\n\nschema = StructType([\n    StructField(\"location_name\", StringType(), True),\n    StructField(\"2019_count\", IntegerType(), True),\n    StructField(\"2022_count\", IntegerType(), True),\n    StructField(\"decline\", IntegerType(), True),\n    StructField(\"decline_percent\", DoubleType(), True),\n])\n\ns3_path = f\"s3://{BUCKET_NAME}/report/{OUTPUT_TABLE_NAME}/\"\nutil.create_glue_catalog_table(DATABASE_NAME, OUTPUT_TABLE_NAME, schema, s3_path)",
			"metadata": {
				"editable": true,
				"trusted": true
			},
			"execution_count": 2,
			"outputs": [
				{
					"name": "stdout",
					"text": "Table pedestrian_analysis_report.report_location_declines_due_to_lockdown not found in the Glue Data Catalog. Creating table...\nTable pedestrian_analysis_report.report_location_declines_due_to_lockdown created in the Glue Data Catalog\n",
					"output_type": "stream"
				}
			]
		},
		{
			"cell_type": "markdown",
			"source": "####  Load sensor_counts_by_day",
			"metadata": {
				"editable": true,
				"trusted": true
			}
		},
		{
			"cell_type": "code",
			"source": "sensor_counts_df = glueContext.create_dynamic_frame.from_catalog(\n    database=\"pedestrian_analysis_raw\",\n    table_name=\"sensor_counts\"\n).toDF()\n\nsensor_counts_df.show(10, truncate=False)",
			"metadata": {
				"editable": true,
				"trusted": true
			},
			"execution_count": 3,
			"outputs": [
				{
					"name": "stdout",
					"text": "+-------+-------------------+---------+--------------------------------------+------------+\n|id     |date_time          |sensor_id|sensor_name                           |hourly_count|\n+-------+-------------------+---------+--------------------------------------+------------+\n|2902119|2019-11-12T22:00:00|11       |Waterfront City                       |27          |\n|763567 |2014-01-24T10:00:00|25       |Melbourne Convention Exhibition Centre|436         |\n|1028480|2015-01-06T16:00:00|23       |Spencer St-Collins St (South)         |760         |\n|331173 |2011-07-08T12:00:00|10       |Victoria Point                        |569         |\n|430567 |2012-03-03T19:00:00|1        |Bourke Street Mall (North)            |847         |\n|631323 |2013-06-14T14:00:00|4        |Town Hall (West)                      |3219        |\n|573323 |2013-01-30T13:00:00|16       |Australia on Collins                  |2931        |\n|408282 |2012-01-12T04:00:00|18       |Collins Place (North)                 |1           |\n|754463 |2014-01-12T13:00:00|6        |Flinders Street Station Underpass     |1154        |\n|1139175|2015-05-13T19:00:00|11       |Waterfront City                       |39          |\n+-------+-------------------+---------+--------------------------------------+------------+\nonly showing top 10 rows\n",
					"output_type": "stream"
				}
			]
		},
		{
			"cell_type": "markdown",
			"source": "####  Load sensor_reference_data",
			"metadata": {
				"editable": true,
				"trusted": true
			}
		},
		{
			"cell_type": "code",
			"source": "sensor_reference_df = glueContext.create_dynamic_frame.from_catalog(\n    database=\"pedestrian_analysis_raw\",\n    table_name=\"sensor_reference_data\"\n).toDF()\n\nsensor_reference_df.show(10)",
			"metadata": {
				"editable": true,
				"trusted": true
			},
			"execution_count": 4,
			"outputs": [
				{
					"name": "stdout",
					"text": "+-----------+-----------+-----------------+------------+--------------------+-----------+-------------+------------+--------------------+--------------------+-----------+------+\n|direction_1|direction_2|installation_date|    latitude|            location|location_id|location_type|   longitude|                note|  sensor_description|sensor_name|status|\n+-----------+-----------+-----------------+------------+--------------------+-----------+-------------+------------+--------------------+--------------------+-----------+------+\n|      North|      South|       2009-03-25|-37.81101524|{lon -> 144.96429...|          3|      Outdoor|144.96429485|                null|   Melbourne Central|   Swa295_T|     A|\n|      North|      South|       2009-03-23|-37.81487988|{lon -> 144.96608...|          4|      Outdoor| 144.9660878|                null|    Town Hall (West)|   Swa123_T|     A|\n|       East|       West|       2021-12-21|-37.79432415|{lon -> 144.92973...|         85|      Outdoor|144.92973378|                null| Macaulay Rd (North)|   488Mac_T|     A|\n|      North|      South|       2020-03-12|-37.81569416|{lon -> 144.96680...|         65|      Outdoor| 144.9668064|                null|Swanston St - Cit...|    SwaCs_T|     A|\n|       null|       null|       2021-03-25|-37.81442577|{lon -> 144.94436...|        120| Outdoor Blix|144.94436558|                null|   Harbour Esplanade| HarbBlix_T|     A|\n|       East|       West|       2021-12-21|-37.80309992|{lon -> 144.94908...|         86|      Outdoor|144.94908064|                null|Queensberry St - ...|   574Qub_T|     A|\n|       East|       West|       2013-09-06|-37.81172914|{lon -> 144.96824...|         20|      Outdoor| 144.9682466|                null|Chinatown-Lt Bour...|   LtB170_T|     A|\n|      North|      South|       2009-03-24|-37.82011242|{lon -> 144.96291...|         14|      Outdoor|144.96291897|Sensor relocated ...|    Sandridge Bridge|   SanBri_T|     A|\n|       East|       West|       2019-09-25|-37.80996494|{lon -> 144.96216...|         62|      Outdoor|144.96216521|                null| La Trobe St (North)|   Lat224_T|     A|\n|         In|        Out|       2021-03-30|-37.82579138|{lon -> 144.96084...|         81|       Indoor|144.96084343|                null|Boyd Commuinty - ...|    BoCoF_T|     A|\n+-----------+-----------+-----------------+------------+--------------------+-----------+-------------+------------+--------------------+--------------------+-----------+------+\nonly showing top 10 rows\n",
					"output_type": "stream"
				}
			]
		},
		{
			"cell_type": "markdown",
			"source": "#### Calculate sensor counts 2019\n##### Because the cutsoff at 2022-11-01, for the purpose of this analysis we are setting the end of each year to November 11",
			"metadata": {
				"editable": true,
				"trusted": true
			}
		},
		{
			"cell_type": "code",
			"source": "sensor_counts_2019_df = sensor_counts_df.filter(\n    col('date_time') >= '2018-11-01'\n).filter(\n    col('date_time') < '2019-11-01'\n).groupBy(\n    'sensor_id'\n).agg(\n    sum('hourly_count').alias('count_2019')\n)\n\nsensor_counts_2019_df.show(10)",
			"metadata": {
				"editable": true,
				"trusted": true
			},
			"execution_count": 5,
			"outputs": [
				{
					"name": "stdout",
					"text": "+---------+----------+\n|sensor_id|count_2019|\n+---------+----------+\n|       37|   1253474|\n|       46|    864532|\n|       12|   2069570|\n|       52|   3642230|\n|       18|   3058886|\n|       50|   2340233|\n|       56|   2806452|\n|       14|   4280452|\n|       25|   4433454|\n|       62|    126595|\n+---------+----------+\nonly showing top 10 rows\n",
					"output_type": "stream"
				}
			]
		},
		{
			"cell_type": "markdown",
			"source": "#### Calculate sensor counts 2022",
			"metadata": {}
		},
		{
			"cell_type": "code",
			"source": "sensor_counts_2022_df = sensor_counts_df.filter(\n    col('date_time') >= '2021-11-01'\n).filter(\n    col('date_time') < '2022-11-01'\n).groupBy(\n    'sensor_id'\n).agg(\n    sum('hourly_count').alias('count_2022')\n)\n\nsensor_counts_2022_df.show(10)",
			"metadata": {
				"trusted": true
			},
			"execution_count": 6,
			"outputs": [
				{
					"name": "stdout",
					"text": "+---------+----------+\n|sensor_id|count_2022|\n+---------+----------+\n|       12|   1800608|\n|       65|   3066693|\n|       67|   2746840|\n|       46|    524097|\n|       18|    743849|\n|       25|   6695435|\n|       70|   1343628|\n|       14|   2486303|\n|       37|    971716|\n|       56|   2114456|\n+---------+----------+\nonly showing top 10 rows\n",
					"output_type": "stream"
				}
			]
		},
		{
			"cell_type": "markdown",
			"source": "#### Calculate the decline and decline percentages for each sensor",
			"metadata": {}
		},
		{
			"cell_type": "code",
			"source": "sensor_decline_df = sensor_counts_2019_df.join(\n    sensor_counts_2022_df,\n    on='sensor_id',\n    how='inner'\n).withColumn(\n    'decline',\n    (col('count_2019') - col('count_2022'))\n).withColumn(\n    'decline_percent',\n    ((col('count_2019') - col('count_2022')) / col('count_2019')) * 100\n)\n\nsensor_decline_df.show(10)",
			"metadata": {
				"trusted": true
			},
			"execution_count": 7,
			"outputs": [
				{
					"name": "stdout",
					"text": "+---------+----------+----------+--------+------------------+\n|sensor_id|count_2019|count_2022| decline|   decline_percent|\n+---------+----------+----------+--------+------------------+\n|       34|   1268286|     20796| 1247490| 98.36030674469323|\n|       22|  12975568|    702581|12272987| 94.58535456790793|\n|       15|   7255167|    456515| 6798652| 93.70772581802734|\n|        7|   2257446|    394437| 1863009| 82.52728968932146|\n|       18|   3058886|    743849| 2315037| 75.68235625649338|\n|       10|   1631873|    475750| 1156123| 70.84638326634487|\n|       52|   3642230|   1063063| 2579167| 70.81285366382684|\n|        9|   6833188|   2064815| 4768373| 69.78255244843257|\n|       57|   6861050|   2414386| 4446664| 64.81025499012542|\n|       43|   1630186|    610936| 1019250|62.523540258596256|\n+---------+----------+----------+--------+------------------+\nonly showing top 10 rows\n",
					"output_type": "stream"
				}
			]
		},
		{
			"cell_type": "code",
			"source": "#### Join reference and select relevant columns",
			"metadata": {
				"trusted": true
			},
			"execution_count": 6,
			"outputs": []
		},
		{
			"cell_type": "code",
			"source": "sensor_decline_df = sensor_decline_df.join(\n    sensor_reference_df,\n    col(\"sensor_id\") == col(\"location_id\"),\n    \"left\"\n)\n\nsensor_decline_df = sensor_decline_df.select(\n    col('sensor_id'),\n    col('sensor_description').alias('location_name'),\n    col('count_2019').cast('int'),\n    col('count_2022').cast('int'),\n    col('decline'),\n    col('decline_percent')\n).orderBy(\n    desc('decline_percent')\n)\n\nsensor_decline_df.show(100, truncate=False)",
			"metadata": {
				"trusted": true
			},
			"execution_count": 14,
			"outputs": [
				{
					"name": "stdout",
					"text": "+---------+--------------------------------------+---+---+---------+-------------------+\n|sensor_id|location_name                         |1  |2  |decline  |decline_percent    |\n+---------+--------------------------------------+---+---+---------+-------------------+\n|34       |null                                  |1  |2  |1247490  |98.36030674469323  |\n|22       |null                                  |1  |2  |12272987 |94.58535456790793  |\n|15       |null                                  |1  |2  |6798652  |93.70772581802734  |\n|7        |Birrarung Marr                        |1  |2  |1863009  |82.52728968932146  |\n|18       |Collins Place (North)                 |1  |2  |2315037  |75.68235625649338  |\n|10       |Victoria Point                        |1  |2  |1156123  |70.84638326634487  |\n|52       |Elizabeth St-Lonsdale St (South)      |1  |2  |2579167  |70.81285366382684  |\n|9        |Southern Cross Station                |1  |2  |4768373  |69.78255244843257  |\n|57       |Bourke St Bridge                      |1  |2  |4446664  |64.81025499012542  |\n|43       |Monash Rd-Swanston St (West)          |1  |2  |1019250  |62.523540258596256 |\n|39       |Alfred Place                          |1  |2  |1230357  |57.57920224933639  |\n|4        |Town Hall (West)                      |1  |2  |7154728  |56.49685196732992  |\n|24       |Spencer St-Collins St (North)         |1  |2  |6587318  |53.977340608191284 |\n|44       |Tin Alley-Swanston St (West)          |1  |2  |400860   |51.65282334234459  |\n|17       |Collins Place (South)                 |1  |2  |1945974  |48.73367143500041  |\n|23       |Spencer St-Collins St (South)         |1  |2  |1688015  |48.60787757373977  |\n|42       |Grattan St-Swanston St (West)         |1  |2  |1048924  |46.01938569978884  |\n|6        |Flinders Street Station Underpass     |1  |2  |5650313  |45.55043645380877  |\n|58       |Bourke St - Spencer St (North)        |1  |2  |3212673  |45.48037859155312  |\n|40       |Lonsdale St-Spring St (West)          |1  |2  |1186421  |44.406105057655054 |\n|36       |Queen St (West)                       |1  |2  |1168614  |42.98377222036883  |\n|28       |The Arts Centre                       |1  |2  |4130850  |42.67026166259541  |\n|2        |Bourke Street Mall (South)            |1  |2  |3491400  |42.53546662859096  |\n|53       |Collins Street (North)                |1  |2  |2602813  |42.41563562758711  |\n|14       |Sandridge Bridge                      |1  |2  |1794149  |41.91494262755428  |\n|48       |QVM-Queen St (East)                   |1  |2  |928949   |40.04351145268507  |\n|26       |QV Market-Elizabeth St (West)         |1  |2  |2106067  |39.75662395828594  |\n|1        |Bourke Street Mall (North)            |1  |2  |4586290  |39.56465072816439  |\n|46       |Pelham St (South)                     |1  |2  |340435   |39.37795246445476  |\n|29       |St Kilda Rd-Alexandra Gardens         |1  |2  |1479835  |39.26261365870457  |\n|19       |Chinatown-Swanston St (North)         |1  |2  |1977069  |38.284929857949855 |\n|20       |Chinatown-Lt Bourke St (South)        |1  |2  |1373226  |37.22156522229381  |\n|21       |Bourke St-Russell St (West)           |1  |2  |2072540  |35.452541893917775 |\n|30       |Lonsdale St (South)                   |1  |2  |1490477  |32.12687044103405  |\n|45       |Little Collins St-Swanston St (East)  |1  |2  |1582242  |30.887671964530288 |\n|5        |Princes Bridge                        |1  |2  |3176951  |30.235413495880607 |\n|49       |QVM-Therry St (South)                 |1  |2  |368250   |25.050389888145673 |\n|56       |Lonsdale St - Elizabeth St (North)    |1  |2  |691996   |24.657325334621795 |\n|54       |Lincoln-Swanston (West)               |1  |2  |342490   |24.299601191105445 |\n|31       |Lygon St (West)                       |1  |2  |493618   |23.391191566209677 |\n|47       |Melbourne Central-Elizabeth St (East) |1  |2  |1938092  |23.337355564822087 |\n|37       |Lygon St (East)                       |1  |2  |281758   |22.47816867362227  |\n|8        |Webb Bridge                           |1  |2  |377166   |22.23050014293166  |\n|27       |QV Market-Peel St                     |1  |2  |254435   |20.84113198305089  |\n|51       |QVM-Franklin St (North)               |1  |2  |238354   |20.651174718915673 |\n|50       |Faraday St-Lygon St (West)            |1  |2  |481040   |20.555218219724274 |\n|3        |Melbourne Central                     |1  |2  |1563451  |16.113488272960225 |\n|35       |Southbank                             |1  |2  |1615043  |13.398736785795826 |\n|12       |New Quay                              |1  |2  |268962   |12.996032992360732 |\n|61       |RMIT Building 14                      |1  |2  |-340886  |-19.28870475187053 |\n|11       |Waterfront City                       |1  |2  |-331364  |-48.02188899854644 |\n|25       |Melbourne Convention Exhibition Centre|1  |2  |-2261981 |-51.020739134769414|\n|59       |Building 80 RMIT                      |1  |2  |-1664115 |-75.45306114676194 |\n|55       |Elizabeth St-La Trobe St (East)       |1  |2  |-869904  |-112.20470460464114|\n|62       |La Trobe St (North)                   |1  |2  |-1206785 |-953.2643469331331 |\n|41       |Flinders La-Swanston St (West)        |1  |2  |-11480171|-1168.0812313102156|\n+---------+--------------------------------------+---+---+---------+-------------------+\n",
					"output_type": "stream"
				}
			]
		},
		{
			"cell_type": "code",
			"source": "util.upload_to_s3(glueContext, sensor_decline_df, s3_path)",
			"metadata": {
				"trusted": true
			},
			"execution_count": 15,
			"outputs": [
				{
					"name": "stdout",
					"text": "Successfully Uploaded to s3 in path: s3://pedestrian-analysis-working-bucket/report/report_location_declines_due_to_lockdown/\n",
					"output_type": "stream"
				}
			]
		},
		{
			"cell_type": "code",
			"source": "",
			"metadata": {},
			"execution_count": null,
			"outputs": []
		}
	]
}