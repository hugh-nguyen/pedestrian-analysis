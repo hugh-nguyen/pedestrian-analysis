{
	"metadata": {
		"kernelspec": {
			"name": "glue_pyspark",
			"display_name": "Glue PySpark",
			"language": "python"
		},
		"language_info": {
			"name": "Python_Glue_Session",
			"mimetype": "text/x-python",
			"codemirror_mode": {
				"name": "python",
				"version": 3
			},
			"pygments_lexer": "python3",
			"file_extension": ".py"
		}
	},
	"nbformat_minor": 4,
	"nbformat": 4,
	"cells": [
		{
			"cell_type": "markdown",
			"source": "# Most Growth Last Year",
			"metadata": {
				"editable": true,
				"trusted": true
			}
		},
		{
			"cell_type": "markdown",
			"source": "####  Import packages and start the session",
			"metadata": {
				"editable": true,
				"trusted": true
			}
		},
		{
			"cell_type": "code",
			"source": "%idle_timeout 2880\n%glue_version 3.0\n%worker_type G.1X\n%number_of_workers 2\n%extra_py_files s3://pedestrian-analysis-working-bucket/glue-job-scripts/util.py\n\nimport sys, io, util\nfrom datetime import datetime, timedelta\n\nfrom pyspark.sql.types import (\n    StructType, StructField, StringType, IntegerType, DoubleType, TimestampType\n)\n\nfrom pyspark.context import SparkContext\nfrom pyspark.sql.functions import sum, col, rank, desc, lit, when\nfrom pyspark.sql.window import Window\nfrom awsglue.utils import getResolvedOptions\nfrom awsglue.context import GlueContext\nfrom awsglue.job import Job\n\nsc = SparkContext.getOrCreate()\nglueContext = GlueContext(sc)\nspark = glueContext.spark_session\njob = Job(glueContext)",
			"metadata": {
				"editable": true,
				"trusted": true
			},
			"execution_count": 1,
			"outputs": [
				{
					"name": "stdout",
					"text": "Welcome to the Glue Interactive Sessions Kernel\nFor more information on available magic commands, please type %help in any new cell.\n\nPlease view our Getting Started page to access the most up-to-date information on the Interactive Sessions kernel: https://docs.aws.amazon.com/glue/latest/dg/interactive-sessions.html\nInstalled kernel version: 0.37.0 \nCurrent idle_timeout is 2800 minutes.\nidle_timeout has been set to 2880 minutes.\nSetting Glue version to: 3.0\nPrevious worker type: G.1X\nSetting new worker type to: G.1X\nPrevious number of workers: 5\nSetting new number of workers to: 2\nExtra py files to be included:\ns3://pedestrian-analysis-working-bucket/glue-job-scripts/util.py\nAuthenticating with environment variables and user-defined glue_role_arn: arn:aws:iam::632753217422:role/pedestrians-analysis-notebook-role\nTrying to create a Glue session for the kernel.\nWorker Type: G.1X\nNumber of Workers: 2\nSession ID: 41beb920-0dc0-4492-be42-d598dc94a81f\nJob Type: glueetl\nApplying the following default arguments:\n--glue_kernel_version 0.37.0\n--enable-glue-datacatalog true\n--extra-py-files s3://pedestrian-analysis-working-bucket/glue-job-scripts/util.py\nWaiting for session 41beb920-0dc0-4492-be42-d598dc94a81f to get into ready status...\nSession 41beb920-0dc0-4492-be42-d598dc94a81f has been created.\n\n",
					"output_type": "stream"
				}
			]
		},
		{
			"cell_type": "markdown",
			"source": "####  Create output glue table if it doesn't already exist\n##### The results of this notebook will be loaded into this table",
			"metadata": {
				"editable": true,
				"trusted": true
			}
		},
		{
			"cell_type": "code",
			"source": "BUCKET_NAME = 'pedestrian-analysis-working-bucket'\nDATABASE_NAME = 'pedestrian_analysis_report'\nOUTPUT_TABLE_NAME = 'report_most_growth_last_year'\n\nschema = StructType([\n    StructField(\"location_name\", StringType(), True),\n    StructField(\"count_previous_year\", IntegerType(), True),\n    StructField(\"count_last_year\", IntegerType(), True),\n    StructField(\"growth\", IntegerType(), True),\n    StructField(\"growth_percent\", DoubleType(), True),\n])\n\ns3_path = f\"s3://{BUCKET_NAME}/report/{OUTPUT_TABLE_NAME}/\"\nutil.create_glue_catalog_table(DATABASE_NAME, OUTPUT_TABLE_NAME, schema, s3_path)",
			"metadata": {
				"editable": true,
				"trusted": true
			},
			"execution_count": null,
			"outputs": []
		},
		{
			"cell_type": "markdown",
			"source": "####  Load sensor_counts_by_day",
			"metadata": {
				"editable": true,
				"trusted": true
			}
		},
		{
			"cell_type": "code",
			"source": "sensor_counts_df = glueContext.create_dynamic_frame.from_catalog(\n    database=\"pedestrian_analysis_raw\",\n    table_name=\"sensor_counts\"\n).toDF()\n\nsensor_counts_df.show(10, truncate=False)",
			"metadata": {
				"editable": true,
				"trusted": true
			},
			"execution_count": null,
			"outputs": []
		},
		{
			"cell_type": "markdown",
			"source": "####  Load sensor_reference_data",
			"metadata": {
				"editable": true,
				"trusted": true
			}
		},
		{
			"cell_type": "code",
			"source": "sensor_reference_df = glueContext.create_dynamic_frame.from_catalog(\n    database=\"pedestrian_analysis_raw\",\n    table_name=\"sensor_reference_data\"\n).toDF()\n\nsensor_reference_df.show(10)",
			"metadata": {
				"editable": true,
				"trusted": true
			},
			"execution_count": null,
			"outputs": []
		},
		{
			"cell_type": "markdown",
			"source": "#### Calculate sensor counts previous year\n##### Because the cutsoff at 2022-11-01, for the purpose of this analysis we are setting the end of each year to November 11",
			"metadata": {
				"editable": true,
				"trusted": true
			}
		},
		{
			"cell_type": "code",
			"source": "previous_year_df = sensor_counts_df \\\n    .filter(col('date_time') >= '2020-11-01') \\\n    .filter(col('date_time') < '2021-11-01') \\\n    .groupBy('sensor_id') \\\n    .agg(sum('hourly_count').alias('count_previous_year'))\n\nprevious_year_df.show(10)",
			"metadata": {
				"editable": true,
				"trusted": true
			},
			"execution_count": null,
			"outputs": []
		},
		{
			"cell_type": "markdown",
			"source": "#### Calculate sensor counts last year",
			"metadata": {}
		},
		{
			"cell_type": "code",
			"source": "last_year_df = sensor_counts_df \\\n    .filter(col('date_time') >= '2021-11-01') \\\n    .filter(col('date_time') < '2022-11-01') \\\n    .groupBy('sensor_id') \\\n    .agg(sum('hourly_count').alias('count_last_year'))\n\nlast_year_df.show(10)",
			"metadata": {
				"trusted": true
			},
			"execution_count": null,
			"outputs": []
		},
		{
			"cell_type": "markdown",
			"source": "#### Calculate the decline and decline percentages for each sensor",
			"metadata": {}
		},
		{
			"cell_type": "code",
			"source": "growth_df = previous_year_df \\\n    .join(last_year_df, on='sensor_id', how='inner') \\\n    .withColumn('growth', (col('count_last_year') - col('count_previous_year'))) \\\n    .withColumn('growth_percent', ((col('count_last_year') - col('count_previous_year')) / col('count_previous_year')) * 100)\n\ngrowth_df.show(10)",
			"metadata": {
				"trusted": true
			},
			"execution_count": null,
			"outputs": []
		},
		{
			"cell_type": "markdown",
			"source": "#### Join reference and select relevant columns",
			"metadata": {}
		},
		{
			"cell_type": "code",
			"source": "growth_df = growth_df.join(\n    sensor_reference_df,\n    col(\"sensor_id\") == col(\"location_id\"),\n    \"left\"\n)\n\ngrowth_df = growth_df.select(\n    col('sensor_id'),\n    col('sensor_description').alias('location_name'),\n    col('count_previous_year').cast('int'),\n    col('count_last_year').cast('int'),\n    col('growth'),\n    col('growth_percent')\n).orderBy(\n    desc('growth_percent')\n)\n\ngrowth_df.show(100, truncate=False)",
			"metadata": {
				"trusted": true
			},
			"execution_count": null,
			"outputs": []
		},
		{
			"cell_type": "code",
			"source": "util.upload_to_s3(glueContext, growth_df, s3_path)",
			"metadata": {
				"trusted": true
			},
			"execution_count": null,
			"outputs": []
		},
		{
			"cell_type": "code",
			"source": "",
			"metadata": {},
			"execution_count": null,
			"outputs": []
		}
	]
}